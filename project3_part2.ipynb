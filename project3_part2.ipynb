{
 "cells": [
  {
   "cell_type": "code",
   "execution_count": 1,
   "id": "ed54faed-8b94-418d-aad5-4d49db5b6dba",
   "metadata": {},
   "outputs": [],
   "source": [
    "basics_url = \"https://datasets.imdbws.com/title.basics.tsv.gz\"\n",
    "akas_url = \"https://datasets.imdbws.com/title.akas.tsv.gz\"\n",
    "ratings_url = \"https://datasets.imdbws.com/title.ratings.tsv.gz\""
   ]
  },
  {
   "cell_type": "code",
   "execution_count": 2,
   "id": "1b55ec6a-a87a-46f5-a11e-7d99eb085b53",
   "metadata": {},
   "outputs": [],
   "source": [
    "import pandas as pd\n",
    "import numpy as np\n",
    "import os"
   ]
  },
  {
   "cell_type": "code",
   "execution_count": 3,
   "id": "39a5530c-a070-454b-b3db-800a3a45592c",
   "metadata": {},
   "outputs": [],
   "source": [
    "basics = pd.read_csv(basics_url, sep='\\t', low_memory=False)\n",
    "akas = pd.read_csv(akas_url, sep='\\t', low_memory=False)\n",
    "ratings = pd.read_csv(ratings_url, sep='\\t', low_memory=False)"
   ]
  },
  {
   "cell_type": "code",
   "execution_count": 4,
   "id": "e2af67c6-1c5d-4d65-ab54-f7622c7dfd37",
   "metadata": {
    "scrolled": true
   },
   "outputs": [
    {
     "name": "stdout",
     "output_type": "stream",
     "text": [
      "Index(['tconst', 'titleType', 'primaryTitle', 'originalTitle', 'isAdult',\n",
      "       'startYear', 'endYear', 'runtimeMinutes', 'genres'],\n",
      "      dtype='object')\n"
     ]
    }
   ],
   "source": [
    "print(basics.columns)"
   ]
  },
  {
   "cell_type": "code",
   "execution_count": 5,
   "id": "974f138f-c5ce-445b-b8c9-21fa332b3dc7",
   "metadata": {},
   "outputs": [],
   "source": [
    "# Title Basics\n",
    "basics.replace(r'\\\\N', np.nan, inplace=True)\n",
    "basics = basics.dropna(subset=['runtimeMinutes', 'genres'])\n",
    "basics['startYear'] = pd.to_numeric(basics['startYear'], errors='coerce')  # Convert 'startYear' to numeric\n",
    "basics = basics[(basics['titleType'] == 'movie') & (basics['startYear'].between(2000, 2022))]\n",
    "basics = basics[~basics['genres'].str.contains('Documentary', na=False)]"
   ]
  },
  {
   "cell_type": "code",
   "execution_count": 6,
   "id": "7649f076-2a19-4ae5-8ffa-5bbfcaf60358",
   "metadata": {},
   "outputs": [
    {
     "name": "stdout",
     "output_type": "stream",
     "text": [
      "Index(['titleId', 'ordering', 'title', 'region', 'language', 'types',\n",
      "       'attributes', 'isOriginalTitle'],\n",
      "      dtype='object')\n"
     ]
    }
   ],
   "source": [
    "print(akas.columns)"
   ]
  },
  {
   "cell_type": "code",
   "execution_count": 7,
   "id": "9ce86283-7ba7-4c54-813b-725cfeb41355",
   "metadata": {},
   "outputs": [],
   "source": [
    "# AKAs\n",
    "akas = akas[akas['region'] == 'US']\n",
    "akas.replace(r'\\\\N', np.nan, inplace=True)"
   ]
  },
  {
   "cell_type": "code",
   "execution_count": 8,
   "id": "455fe4a5-e37a-424c-9668-95cfe0a96c95",
   "metadata": {},
   "outputs": [
    {
     "name": "stdout",
     "output_type": "stream",
     "text": [
      "Index(['tconst', 'averageRating', 'numVotes'], dtype='object')\n"
     ]
    }
   ],
   "source": [
    "print(ratings.columns)"
   ]
  },
  {
   "cell_type": "code",
   "execution_count": 9,
   "id": "ad3f0d32-3cba-4401-bd0b-ace6531efe0c",
   "metadata": {},
   "outputs": [],
   "source": [
    "# Ratings\n",
    "ratings.replace(r'\\\\N', np.nan, inplace=True)\n",
    "ratings = ratings[ratings['tconst'].isin(akas['titleId'])]"
   ]
  },
  {
   "cell_type": "code",
   "execution_count": 10,
   "id": "aeda6491-8a2d-4606-be8c-a2ef1f1ed7fe",
   "metadata": {},
   "outputs": [
    {
     "name": "stdout",
     "output_type": "stream",
     "text": [
      "Basics DataFrame Info:\n",
      "<class 'pandas.core.frame.DataFrame'>\n",
      "Int64Index: 202717 entries, 11636 to 10282958\n",
      "Data columns (total 9 columns):\n",
      " #   Column          Non-Null Count   Dtype  \n",
      "---  ------          --------------   -----  \n",
      " 0   tconst          202717 non-null  object \n",
      " 1   titleType       202717 non-null  object \n",
      " 2   primaryTitle    202717 non-null  object \n",
      " 3   originalTitle   202717 non-null  object \n",
      " 4   isAdult         202717 non-null  object \n",
      " 5   startYear       202717 non-null  float64\n",
      " 6   endYear         202717 non-null  object \n",
      " 7   runtimeMinutes  202717 non-null  object \n",
      " 8   genres          202717 non-null  object \n",
      "dtypes: float64(1), object(8)\n",
      "memory usage: 15.5+ MB\n"
     ]
    }
   ],
   "source": [
    "print(\"Basics DataFrame Info:\")\n",
    "basics.info()"
   ]
  },
  {
   "cell_type": "code",
   "execution_count": 11,
   "id": "cda6ca4b-b928-4b62-b712-47521f2ebb51",
   "metadata": {},
   "outputs": [
    {
     "name": "stdout",
     "output_type": "stream",
     "text": [
      "AKAs DataFrame Info:\n",
      "<class 'pandas.core.frame.DataFrame'>\n",
      "Int64Index: 1474948 entries, 5 to 37653297\n",
      "Data columns (total 8 columns):\n",
      " #   Column           Non-Null Count    Dtype \n",
      "---  ------           --------------    ----- \n",
      " 0   titleId          1474948 non-null  object\n",
      " 1   ordering         1474948 non-null  int64 \n",
      " 2   title            1474948 non-null  object\n",
      " 3   region           1474948 non-null  object\n",
      " 4   language         1474948 non-null  object\n",
      " 5   types            1474948 non-null  object\n",
      " 6   attributes       1474948 non-null  object\n",
      " 7   isOriginalTitle  1474948 non-null  object\n",
      "dtypes: int64(1), object(7)\n",
      "memory usage: 101.3+ MB\n"
     ]
    }
   ],
   "source": [
    "print(\"AKAs DataFrame Info:\")\n",
    "akas.info()"
   ]
  },
  {
   "cell_type": "code",
   "execution_count": 12,
   "id": "d11710d3-375d-48eb-9d54-7b4e76b21ae9",
   "metadata": {},
   "outputs": [
    {
     "name": "stdout",
     "output_type": "stream",
     "text": [
      "Ratings DataFrame Info:\n",
      "<class 'pandas.core.frame.DataFrame'>\n",
      "Int64Index: 513266 entries, 0 to 1365844\n",
      "Data columns (total 3 columns):\n",
      " #   Column         Non-Null Count   Dtype  \n",
      "---  ------         --------------   -----  \n",
      " 0   tconst         513266 non-null  object \n",
      " 1   averageRating  513266 non-null  float64\n",
      " 2   numVotes       513266 non-null  int64  \n",
      "dtypes: float64(1), int64(1), object(1)\n",
      "memory usage: 15.7+ MB\n"
     ]
    }
   ],
   "source": [
    "print(\"Ratings DataFrame Info:\")\n",
    "ratings.info()"
   ]
  },
  {
   "cell_type": "code",
   "execution_count": 13,
   "id": "ee91ba41-713a-436e-b3e9-73b7d618d4c8",
   "metadata": {},
   "outputs": [
    {
     "data": {
      "text/plain": [
       "11636       False\n",
       "15176       False\n",
       "34800        True\n",
       "61111        True\n",
       "67485        True\n",
       "            ...  \n",
       "10282784     True\n",
       "10282816     True\n",
       "10282868    False\n",
       "10282948    False\n",
       "10282958    False\n",
       "Name: tconst, Length: 202717, dtype: bool"
      ]
     },
     "execution_count": 13,
     "metadata": {},
     "output_type": "execute_result"
    }
   ],
   "source": [
    "# Filter the basics table down to only include the US by using the filter akas dataframe\n",
    "keepers =basics['tconst'].isin(akas['titleId'])\n",
    "keepers"
   ]
  },
  {
   "cell_type": "code",
   "execution_count": 14,
   "id": "7f14a36e-cf45-4e00-af12-9356f5b1ef37",
   "metadata": {},
   "outputs": [
    {
     "data": {
      "text/html": [
       "<div>\n",
       "<style scoped>\n",
       "    .dataframe tbody tr th:only-of-type {\n",
       "        vertical-align: middle;\n",
       "    }\n",
       "\n",
       "    .dataframe tbody tr th {\n",
       "        vertical-align: top;\n",
       "    }\n",
       "\n",
       "    .dataframe thead th {\n",
       "        text-align: right;\n",
       "    }\n",
       "</style>\n",
       "<table border=\"1\" class=\"dataframe\">\n",
       "  <thead>\n",
       "    <tr style=\"text-align: right;\">\n",
       "      <th></th>\n",
       "      <th>tconst</th>\n",
       "      <th>titleType</th>\n",
       "      <th>primaryTitle</th>\n",
       "      <th>originalTitle</th>\n",
       "      <th>isAdult</th>\n",
       "      <th>startYear</th>\n",
       "      <th>endYear</th>\n",
       "      <th>runtimeMinutes</th>\n",
       "      <th>genres</th>\n",
       "    </tr>\n",
       "  </thead>\n",
       "  <tbody>\n",
       "    <tr>\n",
       "      <th>34800</th>\n",
       "      <td>tt0035423</td>\n",
       "      <td>movie</td>\n",
       "      <td>Kate &amp; Leopold</td>\n",
       "      <td>Kate &amp; Leopold</td>\n",
       "      <td>0</td>\n",
       "      <td>2001.0</td>\n",
       "      <td>\\N</td>\n",
       "      <td>118</td>\n",
       "      <td>Comedy,Fantasy,Romance</td>\n",
       "    </tr>\n",
       "    <tr>\n",
       "      <th>61111</th>\n",
       "      <td>tt0062336</td>\n",
       "      <td>movie</td>\n",
       "      <td>The Tango of the Widower and Its Distorting Mi...</td>\n",
       "      <td>El tango del viudo y su espejo deformante</td>\n",
       "      <td>0</td>\n",
       "      <td>2020.0</td>\n",
       "      <td>\\N</td>\n",
       "      <td>70</td>\n",
       "      <td>Drama</td>\n",
       "    </tr>\n",
       "    <tr>\n",
       "      <th>67485</th>\n",
       "      <td>tt0068865</td>\n",
       "      <td>movie</td>\n",
       "      <td>Lives of Performers</td>\n",
       "      <td>Lives of Performers</td>\n",
       "      <td>0</td>\n",
       "      <td>2016.0</td>\n",
       "      <td>\\N</td>\n",
       "      <td>90</td>\n",
       "      <td>Drama</td>\n",
       "    </tr>\n",
       "    <tr>\n",
       "      <th>67663</th>\n",
       "      <td>tt0069049</td>\n",
       "      <td>movie</td>\n",
       "      <td>The Other Side of the Wind</td>\n",
       "      <td>The Other Side of the Wind</td>\n",
       "      <td>0</td>\n",
       "      <td>2018.0</td>\n",
       "      <td>\\N</td>\n",
       "      <td>122</td>\n",
       "      <td>Drama</td>\n",
       "    </tr>\n",
       "    <tr>\n",
       "      <th>80548</th>\n",
       "      <td>tt0082328</td>\n",
       "      <td>movie</td>\n",
       "      <td>Embodiment of Evil</td>\n",
       "      <td>Encarnação do Demônio</td>\n",
       "      <td>0</td>\n",
       "      <td>2008.0</td>\n",
       "      <td>\\N</td>\n",
       "      <td>94</td>\n",
       "      <td>Horror</td>\n",
       "    </tr>\n",
       "    <tr>\n",
       "      <th>...</th>\n",
       "      <td>...</td>\n",
       "      <td>...</td>\n",
       "      <td>...</td>\n",
       "      <td>...</td>\n",
       "      <td>...</td>\n",
       "      <td>...</td>\n",
       "      <td>...</td>\n",
       "      <td>...</td>\n",
       "      <td>...</td>\n",
       "    </tr>\n",
       "    <tr>\n",
       "      <th>10282551</th>\n",
       "      <td>tt9915872</td>\n",
       "      <td>movie</td>\n",
       "      <td>The Last White Witch</td>\n",
       "      <td>Boku no kanojo wa mahoutsukai</td>\n",
       "      <td>0</td>\n",
       "      <td>2019.0</td>\n",
       "      <td>\\N</td>\n",
       "      <td>97</td>\n",
       "      <td>Comedy,Drama,Fantasy</td>\n",
       "    </tr>\n",
       "    <tr>\n",
       "      <th>10282691</th>\n",
       "      <td>tt9916170</td>\n",
       "      <td>movie</td>\n",
       "      <td>The Rehearsal</td>\n",
       "      <td>O Ensaio</td>\n",
       "      <td>0</td>\n",
       "      <td>2019.0</td>\n",
       "      <td>\\N</td>\n",
       "      <td>51</td>\n",
       "      <td>Drama</td>\n",
       "    </tr>\n",
       "    <tr>\n",
       "      <th>10282700</th>\n",
       "      <td>tt9916190</td>\n",
       "      <td>movie</td>\n",
       "      <td>Safeguard</td>\n",
       "      <td>Safeguard</td>\n",
       "      <td>0</td>\n",
       "      <td>2020.0</td>\n",
       "      <td>\\N</td>\n",
       "      <td>95</td>\n",
       "      <td>Action,Adventure,Thriller</td>\n",
       "    </tr>\n",
       "    <tr>\n",
       "      <th>10282784</th>\n",
       "      <td>tt9916362</td>\n",
       "      <td>movie</td>\n",
       "      <td>Coven</td>\n",
       "      <td>Akelarre</td>\n",
       "      <td>0</td>\n",
       "      <td>2020.0</td>\n",
       "      <td>\\N</td>\n",
       "      <td>92</td>\n",
       "      <td>Drama,History</td>\n",
       "    </tr>\n",
       "    <tr>\n",
       "      <th>10282816</th>\n",
       "      <td>tt9916428</td>\n",
       "      <td>movie</td>\n",
       "      <td>The Secret of China</td>\n",
       "      <td>Hong xing zhao yao Zhong guo</td>\n",
       "      <td>0</td>\n",
       "      <td>2019.0</td>\n",
       "      <td>\\N</td>\n",
       "      <td>\\N</td>\n",
       "      <td>Adventure,History,War</td>\n",
       "    </tr>\n",
       "  </tbody>\n",
       "</table>\n",
       "<p>105025 rows × 9 columns</p>\n",
       "</div>"
      ],
      "text/plain": [
       "             tconst titleType  \\\n",
       "34800     tt0035423     movie   \n",
       "61111     tt0062336     movie   \n",
       "67485     tt0068865     movie   \n",
       "67663     tt0069049     movie   \n",
       "80548     tt0082328     movie   \n",
       "...             ...       ...   \n",
       "10282551  tt9915872     movie   \n",
       "10282691  tt9916170     movie   \n",
       "10282700  tt9916190     movie   \n",
       "10282784  tt9916362     movie   \n",
       "10282816  tt9916428     movie   \n",
       "\n",
       "                                               primaryTitle  \\\n",
       "34800                                        Kate & Leopold   \n",
       "61111     The Tango of the Widower and Its Distorting Mi...   \n",
       "67485                                   Lives of Performers   \n",
       "67663                            The Other Side of the Wind   \n",
       "80548                                    Embodiment of Evil   \n",
       "...                                                     ...   \n",
       "10282551                               The Last White Witch   \n",
       "10282691                                      The Rehearsal   \n",
       "10282700                                          Safeguard   \n",
       "10282784                                              Coven   \n",
       "10282816                                The Secret of China   \n",
       "\n",
       "                                      originalTitle isAdult  startYear  \\\n",
       "34800                                Kate & Leopold       0     2001.0   \n",
       "61111     El tango del viudo y su espejo deformante       0     2020.0   \n",
       "67485                           Lives of Performers       0     2016.0   \n",
       "67663                    The Other Side of the Wind       0     2018.0   \n",
       "80548                         Encarnação do Demônio       0     2008.0   \n",
       "...                                             ...     ...        ...   \n",
       "10282551              Boku no kanojo wa mahoutsukai       0     2019.0   \n",
       "10282691                                   O Ensaio       0     2019.0   \n",
       "10282700                                  Safeguard       0     2020.0   \n",
       "10282784                                   Akelarre       0     2020.0   \n",
       "10282816               Hong xing zhao yao Zhong guo       0     2019.0   \n",
       "\n",
       "         endYear runtimeMinutes                     genres  \n",
       "34800         \\N            118     Comedy,Fantasy,Romance  \n",
       "61111         \\N             70                      Drama  \n",
       "67485         \\N             90                      Drama  \n",
       "67663         \\N            122                      Drama  \n",
       "80548         \\N             94                     Horror  \n",
       "...          ...            ...                        ...  \n",
       "10282551      \\N             97       Comedy,Drama,Fantasy  \n",
       "10282691      \\N             51                      Drama  \n",
       "10282700      \\N             95  Action,Adventure,Thriller  \n",
       "10282784      \\N             92              Drama,History  \n",
       "10282816      \\N             \\N      Adventure,History,War  \n",
       "\n",
       "[105025 rows x 9 columns]"
      ]
     },
     "execution_count": 14,
     "metadata": {},
     "output_type": "execute_result"
    }
   ],
   "source": [
    "basics = basics[keepers]\n",
    "basics"
   ]
  },
  {
   "cell_type": "code",
   "execution_count": 15,
   "id": "1f153c28-d8e9-482e-ba76-e1e5575c994f",
   "metadata": {},
   "outputs": [],
   "source": [
    "os.makedirs(\"Data\", exist_ok=True)"
   ]
  },
  {
   "cell_type": "code",
   "execution_count": 16,
   "id": "5896e785-bb58-4693-8732-ebb324a2e3af",
   "metadata": {},
   "outputs": [],
   "source": [
    "basics.to_csv(\"Data/basics_cleaned.csv\", index=False, compression=\"gzip\")\n",
    "akas.to_csv(\"Data/akas_cleaned.csv\", index=False, compression=\"gzip\")\n",
    "ratings.to_csv(\"Data/ratings_cleaned.csv\", index=False, compression=\"gzip\")"
   ]
  },
  {
   "cell_type": "code",
   "execution_count": 17,
   "id": "61575c17-aef5-4f5d-863c-eb19d28a2bf0",
   "metadata": {},
   "outputs": [
    {
     "data": {
      "text/plain": [
       "['.ipynb_checkpoints',\n",
       " 'akas_cleaned.csv',\n",
       " 'basics_cleaned.csv',\n",
       " 'ratings_cleaned.csv']"
      ]
     },
     "execution_count": 17,
     "metadata": {},
     "output_type": "execute_result"
    }
   ],
   "source": [
    "import os, time,json\n",
    "import tmdbsimple as tmdb \n",
    "FOLDER = \"Data/\"\n",
    "os.makedirs(FOLDER, exist_ok=True)\n",
    "os.listdir(FOLDER)"
   ]
  },
  {
   "cell_type": "code",
   "execution_count": 18,
   "id": "16024035-1ec7-454a-9b07-a855a9fcba04",
   "metadata": {},
   "outputs": [],
   "source": [
    "with open('/Users/om88920/.secret/tmdb_api.json', 'r') as f:\n",
    "\n",
    "    login = json.load(f)\n",
    "\n",
    "tmdb.API_KEY =  login['api-key']"
   ]
  },
  {
   "cell_type": "code",
   "execution_count": 19,
   "id": "8e765264-2af7-44b1-a964-48f5d6d453c7",
   "metadata": {},
   "outputs": [],
   "source": [
    "def get_movie_with_rating(movie_id):\n",
    "    #get movie object for current id\n",
    "    movie = tmdb.Movies(movie_id)\n",
    "\n",
    "    #save .info .release dicts\n",
    "    info = movie.info()\n",
    "\n",
    "    releases = movie.releases()\n",
    "\n",
    "    # loop through countries in releases\n",
    "    for c in releases['countries']:\n",
    "        # if thr country abbr ==US\n",
    "        if c['iso_3166_1'] =='US':\n",
    "            # save a certification key in the info\n",
    "            info['certifcation'] = c['certification']\n",
    "\n",
    "    return info"
   ]
  },
  {
   "cell_type": "code",
   "execution_count": 20,
   "id": "4547f153-d3df-4ff2-9c34-d7d81971ad43",
   "metadata": {},
   "outputs": [
    {
     "data": {
      "text/plain": [
       "{'adult': False,\n",
       " 'backdrop_path': '/9BBTo63ANSmhC4e6r62OJFuK2GL.jpg',\n",
       " 'belongs_to_collection': {'id': 86311,\n",
       "  'name': 'The Avengers Collection',\n",
       "  'poster_path': '/yFSIUVTCvgYrpalUktulvk3Gi5Y.jpg',\n",
       "  'backdrop_path': '/zuW6fOiusv4X9nnW3paHGfXcSll.jpg'},\n",
       " 'budget': 220000000,\n",
       " 'genres': [{'id': 878, 'name': 'Science Fiction'},\n",
       "  {'id': 28, 'name': 'Action'},\n",
       "  {'id': 12, 'name': 'Adventure'}],\n",
       " 'homepage': 'https://www.marvel.com/movies/the-avengers',\n",
       " 'id': 24428,\n",
       " 'imdb_id': 'tt0848228',\n",
       " 'original_language': 'en',\n",
       " 'original_title': 'The Avengers',\n",
       " 'overview': 'When an unexpected enemy emerges and threatens global safety and security, Nick Fury, director of the international peacekeeping agency known as S.H.I.E.L.D., finds himself in need of a team to pull the world back from the brink of disaster. Spanning the globe, a daring recruitment effort begins!',\n",
       " 'popularity': 122.648,\n",
       " 'poster_path': '/RYMX2wcKCBAr24UyPD7xwmjaTn.jpg',\n",
       " 'production_companies': [{'id': 420,\n",
       "   'logo_path': '/hUzeosd33nzE5MCNsZxCGEKTXaQ.png',\n",
       "   'name': 'Marvel Studios',\n",
       "   'origin_country': 'US'}],\n",
       " 'production_countries': [{'iso_3166_1': 'US',\n",
       "   'name': 'United States of America'}],\n",
       " 'release_date': '2012-04-25',\n",
       " 'revenue': 1518815515,\n",
       " 'runtime': 143,\n",
       " 'spoken_languages': [{'english_name': 'English',\n",
       "   'iso_639_1': 'en',\n",
       "   'name': 'English'},\n",
       "  {'english_name': 'Hindi', 'iso_639_1': 'hi', 'name': 'हिन्दी'},\n",
       "  {'english_name': 'Russian', 'iso_639_1': 'ru', 'name': 'Pусский'}],\n",
       " 'status': 'Released',\n",
       " 'tagline': 'Some assembly required.',\n",
       " 'title': 'The Avengers',\n",
       " 'video': False,\n",
       " 'vote_average': 7.71,\n",
       " 'vote_count': 29277,\n",
       " 'certifcation': 'PG-13'}"
      ]
     },
     "execution_count": 20,
     "metadata": {},
     "output_type": "execute_result"
    }
   ],
   "source": [
    "test = get_movie_with_rating(\"tt0848228\") #put your function name here\n",
    "test"
   ]
  },
  {
   "cell_type": "code",
   "execution_count": 21,
   "id": "5ab8bc36-0164-463e-9f71-355faeeab13f",
   "metadata": {},
   "outputs": [],
   "source": [
    "def write_json(new_data, filename): \n",
    "    \"\"\"Appends a list of records (new_data) to a json file (filename). \n",
    "    Adapted from: https://www.geeksforgeeks.org/append-to-json-file-using-python/\"\"\"  \n",
    "    \n",
    "    with open(filename,'r+') as file:\n",
    "        # First we load existing data into a dict.\n",
    "        file_data = json.load(file)\n",
    "        ## Choose extend or append\n",
    "        if (type(new_data) == list) & (type(file_data) == list):\n",
    "            file_data.extend(new_data)\n",
    "        else:\n",
    "             file_data.append(new_data)\n",
    "        # Sets file's current position at offset.\n",
    "        file.seek(0)\n",
    "        # convert back to json.\n",
    "        json.dump(file_data, file)"
   ]
  },
  {
   "cell_type": "code",
   "execution_count": 22,
   "id": "bae4cc2e-f79b-4383-97ce-1ce3eabd0253",
   "metadata": {},
   "outputs": [],
   "source": [
    "YEARS_TO_GET = [2000,2001]"
   ]
  },
  {
   "cell_type": "code",
   "execution_count": 23,
   "id": "06c2d21e-36f7-41cb-a0c5-921d536a9c9e",
   "metadata": {},
   "outputs": [],
   "source": [
    "errors = [ ]"
   ]
  },
  {
   "cell_type": "code",
   "execution_count": 24,
   "id": "b1381d24-9b55-4779-8b5e-e2046f8a30df",
   "metadata": {},
   "outputs": [
    {
     "name": "stdout",
     "output_type": "stream",
     "text": [
      "Requirement already satisfied: tqdm in c:\\users\\om88920\\appdata\\local\\anaconda3\\envs\\dojo-env\\lib\\site-packages (4.65.0)\n",
      "Requirement already satisfied: colorama in c:\\users\\om88920\\appdata\\local\\anaconda3\\envs\\dojo-env\\lib\\site-packages (from tqdm) (0.4.6)\n"
     ]
    }
   ],
   "source": [
    "from tqdm.notebook import tqdm_notebook\n",
    "!pip install tqdm"
   ]
  },
  {
   "cell_type": "code",
   "execution_count": 25,
   "id": "a35d6b40-7ea7-4e82-9e2b-c36201071bc2",
   "metadata": {},
   "outputs": [
    {
     "data": {
      "application/vnd.jupyter.widget-view+json": {
       "model_id": "7d45e300c0a740689dc5e0aaef0fac94",
       "version_major": 2,
       "version_minor": 0
      },
      "text/plain": [
       "YEARS:   0%|          | 0/2 [00:00<?, ?it/s]"
      ]
     },
     "metadata": {},
     "output_type": "display_data"
    },
    {
     "data": {
      "application/vnd.jupyter.widget-view+json": {
       "model_id": "ba7038b31ae04b7b93192ee552ba5885",
       "version_major": 2,
       "version_minor": 0
      },
      "text/plain": [
       "Movies from 2000:   0%|          | 0/1859 [00:00<?, ?it/s]"
      ]
     },
     "metadata": {},
     "output_type": "display_data"
    },
    {
     "data": {
      "application/vnd.jupyter.widget-view+json": {
       "model_id": "b57b9d602a0b4ce5afffb18028e24641",
       "version_major": 2,
       "version_minor": 0
      },
      "text/plain": [
       "Movies from 2001:   0%|          | 0/2013 [00:00<?, ?it/s]"
      ]
     },
     "metadata": {},
     "output_type": "display_data"
    }
   ],
   "source": [
    "# OUTER loop\n",
    "for YEAR in tqdm_notebook(YEARS_TO_GET, desc='YEARS', position=0):\n",
    "    #Defining the JSON file to store results for year\n",
    "    JSON_FILE = f'{FOLDER}tmdb_api_results_{YEAR}.json'\n",
    "    # Check if file exists\n",
    "    file_exists = os.path.isfile(JSON_FILE)\n",
    "    # If it does not exist: create it\n",
    "    if file_exists == False:\n",
    "    # save an empty dict with just \"imdb_id\" to the new json file.\n",
    "        with open(JSON_FILE,'w') as f:\n",
    "            json.dump([{'imdb_id':0}],f)\n",
    "\n",
    "    #Saving new year as the current df\n",
    "    df = basics.loc[ basics['startYear']==YEAR].copy()\n",
    "    # saving movie ids to list\n",
    "    movie_ids = df['tconst'].copy()\n",
    "\n",
    "    # Load existing data from json into a dataframe called \"previous_df\"\n",
    "    previous_df = pd.read_json(JSON_FILE)\n",
    "\n",
    "    # filter out any ids that are already in the JSON_FILE\n",
    "    movie_ids_to_get = movie_ids[~movie_ids.isin(previous_df['imdb_id'])]\n",
    "\n",
    "    #Get index and movie id from list\n",
    "    # INNER Loop\n",
    "    for movie_id in tqdm_notebook(movie_ids_to_get,\n",
    "                                  desc=f'Movies from {YEAR}',\n",
    "                                  position=1,\n",
    "                                  leave=True):\n",
    "        try:\n",
    "            # Retrieve then data for the movie id\n",
    "            temp = get_movie_with_rating(movie_id)  \n",
    "            # Append/extend results to existing file using a pre-made function\n",
    "            write_json(temp,JSON_FILE)\n",
    "            # Short 20 ms sleep to prevent overwhelming server\n",
    "            time.sleep(0.02)\n",
    "            \n",
    "        except Exception as e:\n",
    "            errors.append([movie_id, e])\n",
    "\n",
    "    final_year_df = pd.read_json(JSON_FILE)\n",
    "    final_year_df.to_csv(f\"{FOLDER}final_tmdb_data_{YEAR}.csv.gz\", compression=\"gzip\", index=False)"
   ]
  },
  {
   "cell_type": "code",
   "execution_count": 26,
   "id": "775229e6-4d30-4e59-a580-c12d55a83ad1",
   "metadata": {},
   "outputs": [
    {
     "name": "stdout",
     "output_type": "stream",
     "text": [
      "- Total errors: 1069\n"
     ]
    }
   ],
   "source": [
    "print(f\"- Total errors: {len(errors)}\")"
   ]
  },
  {
   "cell_type": "code",
   "execution_count": 30,
   "id": "7e9a8fc9-ace7-4cfc-9e52-8f4901a6ff43",
   "metadata": {},
   "outputs": [],
   "source": [
    "import glob\n",
    "\n",
    "# Load CSV files for each year and concatenate them into one DataFrame\n",
    "files = glob.glob('Data/final_tmdb_data_2000.csv.gz')\n",
    "df_list = []\n",
    "\n",
    "for file in files:\n",
    "    df = pd.read_csv(file, compression='gzip')\n",
    "    df_list.append(df)\n",
    "\n",
    "# Concatenate all DataFrames into one\n",
    "movies_df = pd.concat(df_list, ignore_index=True)"
   ]
  },
  {
   "cell_type": "code",
   "execution_count": 31,
   "id": "66771cc6-d14e-48f3-a2c7-347de09990bb",
   "metadata": {},
   "outputs": [
    {
     "name": "stdout",
     "output_type": "stream",
     "text": [
      "Number of movies with valid financial information: 304\n"
     ]
    }
   ],
   "source": [
    "# Exclude movies with budget and revenue both equal to 0\n",
    "valid_movies_df = movies_df[(movies_df['budget'] > 0) | (movies_df['revenue'] > 0)]\n",
    "\n",
    "# Count the number of movies with valid financial information\n",
    "valid_movies_count = len(valid_movies_df)\n",
    "print(f'Number of movies with valid financial information: {valid_movies_count}')"
   ]
  },
  {
   "cell_type": "code",
   "execution_count": 34,
   "id": "053729e7-815d-4130-aae9-37f2383e7007",
   "metadata": {},
   "outputs": [
    {
     "name": "stdout",
     "output_type": "stream",
     "text": [
      "Number of movies in each certification category:\n",
      "R        107\n",
      "PG-13     63\n",
      "PG        18\n",
      "NR        11\n",
      "G          8\n",
      "Name: certifcation, dtype: int64\n"
     ]
    }
   ],
   "source": [
    "# Count movies in each certification category\n",
    "certification_counts = valid_movies_df['certifcation'].value_counts()\n",
    "print('Number of movies in each certification category:')\n",
    "print(certification_counts)"
   ]
  },
  {
   "cell_type": "code",
   "execution_count": 36,
   "id": "f7f49695-722f-4942-92bc-373ee30976b3",
   "metadata": {},
   "outputs": [
    {
     "name": "stdout",
     "output_type": "stream",
     "text": [
      "Average revenue per certification category:\n",
      "certifcation\n",
      "G        1.053431e+08\n",
      "NR       2.655907e+07\n",
      "PG       7.673264e+07\n",
      "PG-13    9.991738e+07\n",
      "R        2.510319e+07\n",
      "Name: revenue, dtype: float64\n",
      "Average budget per certification category:\n",
      "certifcation\n",
      "G        4.500000e+07\n",
      "NR       1.594383e+07\n",
      "PG       4.555000e+07\n",
      "PG-13    4.564706e+07\n",
      "R        1.606491e+07\n",
      "Name: budget, dtype: float64\n"
     ]
    }
   ],
   "source": [
    "# Calculate average revenue and budget per certification category\n",
    "average_revenue_by_certification = valid_movies_df.groupby('certifcation')['revenue'].mean()\n",
    "average_budget_by_certification = valid_movies_df.groupby('certifcation')['budget'].mean()\n",
    "\n",
    "print('Average revenue per certification category:')\n",
    "print(average_revenue_by_certification)\n",
    "\n",
    "print('Average budget per certification category:')\n",
    "print(average_budget_by_certification)"
   ]
  },
  {
   "cell_type": "code",
   "execution_count": null,
   "id": "c3f8d541-224f-4756-b874-dcfac1fbbb61",
   "metadata": {},
   "outputs": [],
   "source": [
    "tmdb_results.to_csv('tmdb_results_combined.csv.gz', compression='gzip', index=False)"
   ]
  },
  {
   "cell_type": "code",
   "execution_count": 39,
   "id": "82e56321-bc9e-4d0f-b1d7-58837b1bbedf",
   "metadata": {},
   "outputs": [],
   "source": [
    "# Load JSON data from both years into DataFrames\n",
    "data_2000 = pd.read_json('Data/tmdb_api_results_2000.json')\n",
    "data_2001 = pd.read_json('Data/tmdb_api_results_2001.json')\n",
    "\n",
    "# Concatenate DataFrames to merge the data\n",
    "merged_data = pd.concat([data_2000, data_2001], ignore_index=True)\n",
    "\n",
    "# Save merged data as a compressed CSV file\n",
    "merged_data.to_csv('Data/tmdb_results_combined.csv.gz', compression='gzip', index=False)"
   ]
  }
 ],
 "metadata": {
  "kernelspec": {
   "display_name": "Python (dojo-env)",
   "language": "python",
   "name": "dojo-env"
  },
  "language_info": {
   "codemirror_mode": {
    "name": "ipython",
    "version": 3
   },
   "file_extension": ".py",
   "mimetype": "text/x-python",
   "name": "python",
   "nbconvert_exporter": "python",
   "pygments_lexer": "ipython3",
   "version": "3.10.10"
  },
  "widgets": {
   "application/vnd.jupyter.widget-state+json": {
    "state": {},
    "version_major": 2,
    "version_minor": 0
   }
  }
 },
 "nbformat": 4,
 "nbformat_minor": 5
}
