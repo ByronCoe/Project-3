{
 "cells": [
  {
   "cell_type": "code",
   "execution_count": 1,
   "id": "d7a6ed1e-22f4-45a7-96ac-51ed7fac2289",
   "metadata": {},
   "outputs": [
    {
     "data": {
      "text/plain": [
       "['akas_cleaned.csv', 'basics_cleaned.csv', 'ratings_cleaned.csv']"
      ]
     },
     "execution_count": 1,
     "metadata": {},
     "output_type": "execute_result"
    }
   ],
   "source": [
    "import os, time,json\n",
    "import tmdbsimple as tmdb \n",
    "FOLDER = \"Data/\"\n",
    "os.makedirs(FOLDER, exist_ok=True)\n",
    "os.listdir(FOLDER)"
   ]
  },
  {
   "cell_type": "code",
   "execution_count": 2,
   "id": "da53fc1c-13b5-4885-8c63-4035b19d0084",
   "metadata": {},
   "outputs": [],
   "source": [
    "def write_json(new_data, filename): \n",
    "    \"\"\"Appends a list of records (new_data) to a json file (filename). \n",
    "    Adapted from: https://www.geeksforgeeks.org/append-to-json-file-using-python/\"\"\"  \n",
    "    \n",
    "    with open(filename,'r+') as file:\n",
    "        # First we load existing data into a dict.\n",
    "        file_data = json.load(file)\n",
    "        ## Choose extend or append\n",
    "        if (type(new_data) == list) & (type(file_data) == list):\n",
    "            file_data.extend(new_data)\n",
    "        else:\n",
    "             file_data.append(new_data)\n",
    "        # Sets file's current position at offset.\n",
    "        file.seek(0)\n",
    "        # convert back to json.\n",
    "        json.dump(file_data, file)"
   ]
  },
  {
   "cell_type": "code",
   "execution_count": 4,
   "id": "98725e23-19dc-4bcf-90e0-0951e6cd2a78",
   "metadata": {},
   "outputs": [],
   "source": [
    "import pandas as pd\n",
    "import gzip\n",
    "\n",
    "# Load in the dataframe from project part 1 as basics:\n",
    "with gzip.open('Data/basics_cleaned.csv', 'rb') as file:\n",
    "    basics = pd.read_csv(file)"
   ]
  },
  {
   "cell_type": "code",
   "execution_count": 7,
   "id": "77935c97-30b3-4dfa-8fb6-dbf3cfc26800",
   "metadata": {},
   "outputs": [
    {
     "name": "stdout",
     "output_type": "stream",
     "text": [
      "<class 'pandas.core.frame.DataFrame'>\n",
      "RangeIndex: 202549 entries, 0 to 202548\n",
      "Data columns (total 9 columns):\n",
      " #   Column          Non-Null Count   Dtype  \n",
      "---  ------          --------------   -----  \n",
      " 0   tconst          202549 non-null  object \n",
      " 1   titleType       202549 non-null  object \n",
      " 2   primaryTitle    202549 non-null  object \n",
      " 3   originalTitle   202549 non-null  object \n",
      " 4   isAdult         202549 non-null  int64  \n",
      " 5   startYear       202549 non-null  float64\n",
      " 6   endYear         202549 non-null  object \n",
      " 7   runtimeMinutes  202549 non-null  object \n",
      " 8   genres          202549 non-null  object \n",
      "dtypes: float64(1), int64(1), object(7)\n",
      "memory usage: 13.9+ MB\n"
     ]
    }
   ],
   "source": [
    "basics.info()"
   ]
  },
  {
   "cell_type": "code",
   "execution_count": 5,
   "id": "4cc45413-3ea2-4f15-9bb5-4d822c85cf15",
   "metadata": {},
   "outputs": [],
   "source": [
    "YEARS_TO_GET = [2000,2001]"
   ]
  },
  {
   "cell_type": "code",
   "execution_count": 6,
   "id": "a57805ae-ceab-4332-ada9-021298e61917",
   "metadata": {},
   "outputs": [],
   "source": [
    "errors = [ ]"
   ]
  },
  {
   "cell_type": "code",
   "execution_count": 17,
   "id": "09b55a09-4f61-4f18-8d3c-a589dbc44bc3",
   "metadata": {},
   "outputs": [
    {
     "name": "stdout",
     "output_type": "stream",
     "text": [
      "Requirement already satisfied: tqdm in c:\\users\\om88920\\appdata\\local\\anaconda3\\envs\\dojo-env\\lib\\site-packages (4.65.0)\n",
      "Requirement already satisfied: colorama in c:\\users\\om88920\\appdata\\local\\anaconda3\\envs\\dojo-env\\lib\\site-packages (from tqdm) (0.4.6)\n"
     ]
    }
   ],
   "source": [
    "from tqdm.notebook import tqdm\n",
    "!pip install tqdm"
   ]
  },
  {
   "cell_type": "code",
   "execution_count": 21,
   "id": "84c79904-a5d1-4b45-af0f-0d691a58e86f",
   "metadata": {},
   "outputs": [
    {
     "data": {
      "application/vnd.jupyter.widget-view+json": {
       "model_id": "93e7a9af6c3f486d9f3c27c4946e2946",
       "version_major": 2,
       "version_minor": 0
      },
      "text/plain": [
       "YEARS:   0%|          | 0/2 [00:00<?, ?it/s]"
      ]
     },
     "metadata": {},
     "output_type": "display_data"
    },
    {
     "data": {
      "application/vnd.jupyter.widget-view+json": {
       "model_id": "3e1588aab54c4efab7ca0a1a7f4ae0e8",
       "version_major": 2,
       "version_minor": 0
      },
      "text/plain": [
       "Movies from 2000:   0%|          | 0/4126 [00:00<?, ?it/s]"
      ]
     },
     "metadata": {},
     "output_type": "display_data"
    },
    {
     "data": {
      "application/vnd.jupyter.widget-view+json": {
       "model_id": "4094687198a540c6a7bb7115673ee43f",
       "version_major": 2,
       "version_minor": 0
      },
      "text/plain": [
       "Movies from 2001:   0%|          | 0/4342 [00:00<?, ?it/s]"
      ]
     },
     "metadata": {},
     "output_type": "display_data"
    }
   ],
   "source": [
    "# OUTER loop\n",
    "for YEAR in tqdm(YEARS_TO_GET, desc='YEARS', position=0):\n",
    "    #Defining the JSON file to store results for year\n",
    "    JSON_FILE = f'{FOLDER}tmdb_api_results_{YEAR}.json'\n",
    "    # Check if file exists\n",
    "    file_exists = os.path.isfile(JSON_FILE)\n",
    "    # If it does not exist: create it\n",
    "    if file_exists == False:\n",
    "    # save an empty dict with just \"imdb_id\" to the new json file.\n",
    "        with open(JSON_FILE,'w') as f:\n",
    "            json.dump([{'imdb_id':0}],f)\n",
    "\n",
    "    #Saving new year as the current df\n",
    "    df = basics.loc[ basics['startYear']==YEAR].copy()\n",
    "    # saving movie ids to list\n",
    "    movie_ids = df['tconst'].copy()\n",
    "\n",
    "    # Load existing data from json into a dataframe called \"previous_df\"\n",
    "    previous_df = pd.read_json(JSON_FILE)\n",
    "\n",
    "    # filter out any ids that are already in the JSON_FILE\n",
    "    movie_ids_to_get = movie_ids[~movie_ids.isin(previous_df['imdb_id'])]\n",
    "\n",
    "    #Get index and movie id from list\n",
    "    # INNER Loop\n",
    "    for movie_id in tqdm(movie_ids_to_get,\n",
    "                                  desc=f'Movies from {YEAR}',\n",
    "                                  position=1,\n",
    "                                  leave=True):\n",
    "        try:\n",
    "            # Retrieve then data for the movie id\n",
    "            temp = get_movie_with_rating(movie_id)  \n",
    "            # Append/extend results to existing file using a pre-made function\n",
    "            write_json(temp,JSON_FILE)\n",
    "            # Short 20 ms sleep to prevent overwhelming server\n",
    "            time.sleep(0.02)\n",
    "            \n",
    "        except Exception as e:\n",
    "            errors.append([movie_id, e])\n",
    "\n",
    "    final_year_df = pd.read_json(JSON_FILE)\n",
    "    final_year_df.to_csv(f\"{FOLDER}final_tmdb_data_{YEAR}.csv.gz\", compression=\"gzip\", index=False)"
   ]
  },
  {
   "cell_type": "code",
   "execution_count": 22,
   "id": "80c1a271-5d90-4c85-bcc9-df64c48add73",
   "metadata": {},
   "outputs": [
    {
     "name": "stdout",
     "output_type": "stream",
     "text": [
      "- Total errors: 8468\n"
     ]
    }
   ],
   "source": [
    "print(f\"- Total errors: {len(errors)}\")"
   ]
  }
 ],
 "metadata": {
  "kernelspec": {
   "display_name": "Python 3 (ipykernel)",
   "language": "python",
   "name": "python3"
  },
  "language_info": {
   "codemirror_mode": {
    "name": "ipython",
    "version": 3
   },
   "file_extension": ".py",
   "mimetype": "text/x-python",
   "name": "python",
   "nbconvert_exporter": "python",
   "pygments_lexer": "ipython3",
   "version": "3.10.10"
  },
  "widgets": {
   "application/vnd.jupyter.widget-state+json": {
    "state": {
     "073e6a1140324c33817bd4a3d3a726be": {
      "model_module": "@jupyter-widgets/controls",
      "model_module_version": "2.0.0",
      "model_name": "HTMLModel",
      "state": {
       "layout": "IPY_MODEL_ec833027bc0f4595bcfe495c3f9c5210",
       "style": "IPY_MODEL_7024c836859f4102a2cf41f16a760c2f",
       "value": "Movies from 2001: 100%"
      }
     },
     "0e586539b4624989b11359c8ad1841f9": {
      "model_module": "@jupyter-widgets/controls",
      "model_module_version": "2.0.0",
      "model_name": "HTMLModel",
      "state": {
       "layout": "IPY_MODEL_5ee7c792220e4447a3049919e6e6c521",
       "style": "IPY_MODEL_c9fe5d2e1f4a4ae5bcae92216bebe81c",
       "value": "YEARS: 100%"
      }
     },
     "1a5bb7fe3e6240db92b34d6c4ad88d16": {
      "model_module": "@jupyter-widgets/controls",
      "model_module_version": "2.0.0",
      "model_name": "HTMLModel",
      "state": {
       "layout": "IPY_MODEL_991a38f259424297a5a175c478426866",
       "style": "IPY_MODEL_d3021ce4b9bd4dc8bec7ec619cae6262",
       "value": "YEARS:   0%"
      }
     },
     "1fb9ed8d409e4fc08bed6b8e7236789f": {
      "model_module": "@jupyter-widgets/controls",
      "model_module_version": "2.0.0",
      "model_name": "HTMLStyleModel",
      "state": {
       "description_width": "",
       "font_size": null,
       "text_color": null
      }
     },
     "218d1bc0a2bd47998dc864cd99ad0fd0": {
      "model_module": "@jupyter-widgets/controls",
      "model_module_version": "2.0.0",
      "model_name": "ProgressStyleModel",
      "state": {
       "description_width": ""
      }
     },
     "297e3ba1454e4e05bc7cb64dcc6e84b9": {
      "model_module": "@jupyter-widgets/controls",
      "model_module_version": "2.0.0",
      "model_name": "HTMLModel",
      "state": {
       "layout": "IPY_MODEL_d029ac0d2ee74d2dbb6a2a5d81a97fa2",
       "style": "IPY_MODEL_dcdfe276c50d450bb0bd27f6be7c8243",
       "value": " 4126/4126 [00:00&lt;00:00, 150705.81it/s]"
      }
     },
     "2d49272b714e413ebd597897c525ef8b": {
      "model_module": "@jupyter-widgets/base",
      "model_module_version": "2.0.0",
      "model_name": "LayoutModel",
      "state": {}
     },
     "2faf71df98e24f3eb127b6c8eb3a001e": {
      "model_module": "@jupyter-widgets/base",
      "model_module_version": "2.0.0",
      "model_name": "LayoutModel",
      "state": {}
     },
     "3e1588aab54c4efab7ca0a1a7f4ae0e8": {
      "model_module": "@jupyter-widgets/controls",
      "model_module_version": "2.0.0",
      "model_name": "HBoxModel",
      "state": {
       "children": [
        "IPY_MODEL_e64b02ee0ac440d8b2d37e78a3e7f071",
        "IPY_MODEL_e673dec9c5a64de7b7e6e629411992d8",
        "IPY_MODEL_297e3ba1454e4e05bc7cb64dcc6e84b9"
       ],
       "layout": "IPY_MODEL_e8b35a14a9e1473482231565e056b1ba"
      }
     },
     "4094687198a540c6a7bb7115673ee43f": {
      "model_module": "@jupyter-widgets/controls",
      "model_module_version": "2.0.0",
      "model_name": "HBoxModel",
      "state": {
       "children": [
        "IPY_MODEL_073e6a1140324c33817bd4a3d3a726be",
        "IPY_MODEL_c4e5fb8b24ea4f10b1218b31d36cdcbb",
        "IPY_MODEL_6895b2a6ecd94c06bc6f321cb216f623"
       ],
       "layout": "IPY_MODEL_4720bad0dcb940c38447e12e44a9edd1"
      }
     },
     "445cb59bf00d45c2ba2faf9e26104e71": {
      "model_module": "@jupyter-widgets/base",
      "model_module_version": "2.0.0",
      "model_name": "LayoutModel",
      "state": {}
     },
     "4720bad0dcb940c38447e12e44a9edd1": {
      "model_module": "@jupyter-widgets/base",
      "model_module_version": "2.0.0",
      "model_name": "LayoutModel",
      "state": {}
     },
     "4e33dbe574f549eaa7f58e8bef42313d": {
      "model_module": "@jupyter-widgets/base",
      "model_module_version": "2.0.0",
      "model_name": "LayoutModel",
      "state": {}
     },
     "517984b404c949bfa18e0bb170503ba4": {
      "model_module": "@jupyter-widgets/controls",
      "model_module_version": "2.0.0",
      "model_name": "HTMLModel",
      "state": {
       "layout": "IPY_MODEL_f891117e362241279effb551e690ffc1",
       "style": "IPY_MODEL_ff093dd14c7c42f69b80a6a5ca0a8611",
       "value": " 0/2 [00:00&lt;?, ?it/s]"
      }
     },
     "5ee7c792220e4447a3049919e6e6c521": {
      "model_module": "@jupyter-widgets/base",
      "model_module_version": "2.0.0",
      "model_name": "LayoutModel",
      "state": {}
     },
     "6895b2a6ecd94c06bc6f321cb216f623": {
      "model_module": "@jupyter-widgets/controls",
      "model_module_version": "2.0.0",
      "model_name": "HTMLModel",
      "state": {
       "layout": "IPY_MODEL_445cb59bf00d45c2ba2faf9e26104e71",
       "style": "IPY_MODEL_b32a729acb414efe825d0d224784d7b5",
       "value": " 4342/4342 [00:00&lt;00:00, 59652.10it/s]"
      }
     },
     "6d6bdc5d62b1417cb64db222d8ad60e1": {
      "model_module": "@jupyter-widgets/controls",
      "model_module_version": "2.0.0",
      "model_name": "HTMLStyleModel",
      "state": {
       "description_width": "",
       "font_size": null,
       "text_color": null
      }
     },
     "7024c836859f4102a2cf41f16a760c2f": {
      "model_module": "@jupyter-widgets/controls",
      "model_module_version": "2.0.0",
      "model_name": "HTMLStyleModel",
      "state": {
       "description_width": "",
       "font_size": null,
       "text_color": null
      }
     },
     "7a666fe2fed643ea838fae064e920fa4": {
      "model_module": "@jupyter-widgets/controls",
      "model_module_version": "2.0.0",
      "model_name": "HTMLModel",
      "state": {
       "layout": "IPY_MODEL_d1fb8141725c4effaa61282352d74f87",
       "style": "IPY_MODEL_1fb9ed8d409e4fc08bed6b8e7236789f",
       "value": " 2/2 [00:00&lt;00:00, 12.39it/s]"
      }
     },
     "81bebe2e44dc493eb582ffd193638986": {
      "model_module": "@jupyter-widgets/controls",
      "model_module_version": "2.0.0",
      "model_name": "ProgressStyleModel",
      "state": {
       "description_width": ""
      }
     },
     "8ca424eb31fc47108c67357b087164d0": {
      "model_module": "@jupyter-widgets/base",
      "model_module_version": "2.0.0",
      "model_name": "LayoutModel",
      "state": {}
     },
     "93e7a9af6c3f486d9f3c27c4946e2946": {
      "model_module": "@jupyter-widgets/controls",
      "model_module_version": "2.0.0",
      "model_name": "HBoxModel",
      "state": {
       "children": [
        "IPY_MODEL_0e586539b4624989b11359c8ad1841f9",
        "IPY_MODEL_94535e98799f41a290b5c39485c45ca7",
        "IPY_MODEL_7a666fe2fed643ea838fae064e920fa4"
       ],
       "layout": "IPY_MODEL_e4ff3713be824f429730aaa75b7ba559"
      }
     },
     "94535e98799f41a290b5c39485c45ca7": {
      "model_module": "@jupyter-widgets/controls",
      "model_module_version": "2.0.0",
      "model_name": "FloatProgressModel",
      "state": {
       "bar_style": "success",
       "layout": "IPY_MODEL_2faf71df98e24f3eb127b6c8eb3a001e",
       "max": 2,
       "style": "IPY_MODEL_218d1bc0a2bd47998dc864cd99ad0fd0",
       "value": 2
      }
     },
     "991a38f259424297a5a175c478426866": {
      "model_module": "@jupyter-widgets/base",
      "model_module_version": "2.0.0",
      "model_name": "LayoutModel",
      "state": {}
     },
     "b32a729acb414efe825d0d224784d7b5": {
      "model_module": "@jupyter-widgets/controls",
      "model_module_version": "2.0.0",
      "model_name": "HTMLStyleModel",
      "state": {
       "description_width": "",
       "font_size": null,
       "text_color": null
      }
     },
     "c308e4de9a774fa38abfcaf023d573b3": {
      "model_module": "@jupyter-widgets/controls",
      "model_module_version": "2.0.0",
      "model_name": "ProgressStyleModel",
      "state": {
       "description_width": ""
      }
     },
     "c4e5fb8b24ea4f10b1218b31d36cdcbb": {
      "model_module": "@jupyter-widgets/controls",
      "model_module_version": "2.0.0",
      "model_name": "FloatProgressModel",
      "state": {
       "bar_style": "success",
       "layout": "IPY_MODEL_da6951da0c7847d7ac12859344f85971",
       "max": 4342,
       "style": "IPY_MODEL_c308e4de9a774fa38abfcaf023d573b3",
       "value": 4342
      }
     },
     "c82ce7c8a2a748608044068fe4baf4fa": {
      "model_module": "@jupyter-widgets/base",
      "model_module_version": "2.0.0",
      "model_name": "LayoutModel",
      "state": {}
     },
     "c9fe5d2e1f4a4ae5bcae92216bebe81c": {
      "model_module": "@jupyter-widgets/controls",
      "model_module_version": "2.0.0",
      "model_name": "HTMLStyleModel",
      "state": {
       "description_width": "",
       "font_size": null,
       "text_color": null
      }
     },
     "d029ac0d2ee74d2dbb6a2a5d81a97fa2": {
      "model_module": "@jupyter-widgets/base",
      "model_module_version": "2.0.0",
      "model_name": "LayoutModel",
      "state": {}
     },
     "d1fb8141725c4effaa61282352d74f87": {
      "model_module": "@jupyter-widgets/base",
      "model_module_version": "2.0.0",
      "model_name": "LayoutModel",
      "state": {}
     },
     "d3021ce4b9bd4dc8bec7ec619cae6262": {
      "model_module": "@jupyter-widgets/controls",
      "model_module_version": "2.0.0",
      "model_name": "HTMLStyleModel",
      "state": {
       "description_width": "",
       "font_size": null,
       "text_color": null
      }
     },
     "d90a0d5fcfbf47ef9d490f2d34a480c0": {
      "model_module": "@jupyter-widgets/controls",
      "model_module_version": "2.0.0",
      "model_name": "FloatProgressModel",
      "state": {
       "bar_style": "danger",
       "layout": "IPY_MODEL_2d49272b714e413ebd597897c525ef8b",
       "max": 2,
       "style": "IPY_MODEL_81bebe2e44dc493eb582ffd193638986"
      }
     },
     "da6951da0c7847d7ac12859344f85971": {
      "model_module": "@jupyter-widgets/base",
      "model_module_version": "2.0.0",
      "model_name": "LayoutModel",
      "state": {}
     },
     "dcdfe276c50d450bb0bd27f6be7c8243": {
      "model_module": "@jupyter-widgets/controls",
      "model_module_version": "2.0.0",
      "model_name": "HTMLStyleModel",
      "state": {
       "description_width": "",
       "font_size": null,
       "text_color": null
      }
     },
     "e4ff3713be824f429730aaa75b7ba559": {
      "model_module": "@jupyter-widgets/base",
      "model_module_version": "2.0.0",
      "model_name": "LayoutModel",
      "state": {}
     },
     "e64b02ee0ac440d8b2d37e78a3e7f071": {
      "model_module": "@jupyter-widgets/controls",
      "model_module_version": "2.0.0",
      "model_name": "HTMLModel",
      "state": {
       "layout": "IPY_MODEL_4e33dbe574f549eaa7f58e8bef42313d",
       "style": "IPY_MODEL_6d6bdc5d62b1417cb64db222d8ad60e1",
       "value": "Movies from 2000: 100%"
      }
     },
     "e673dec9c5a64de7b7e6e629411992d8": {
      "model_module": "@jupyter-widgets/controls",
      "model_module_version": "2.0.0",
      "model_name": "FloatProgressModel",
      "state": {
       "bar_style": "success",
       "layout": "IPY_MODEL_8ca424eb31fc47108c67357b087164d0",
       "max": 4126,
       "style": "IPY_MODEL_f7ff3fcf2aa549bc9c4485d8fd1fa30a",
       "value": 4126
      }
     },
     "e796fd870a454295b8744857031cc815": {
      "model_module": "@jupyter-widgets/controls",
      "model_module_version": "2.0.0",
      "model_name": "HBoxModel",
      "state": {
       "children": [
        "IPY_MODEL_1a5bb7fe3e6240db92b34d6c4ad88d16",
        "IPY_MODEL_d90a0d5fcfbf47ef9d490f2d34a480c0",
        "IPY_MODEL_517984b404c949bfa18e0bb170503ba4"
       ],
       "layout": "IPY_MODEL_c82ce7c8a2a748608044068fe4baf4fa"
      }
     },
     "e8b35a14a9e1473482231565e056b1ba": {
      "model_module": "@jupyter-widgets/base",
      "model_module_version": "2.0.0",
      "model_name": "LayoutModel",
      "state": {}
     },
     "ec833027bc0f4595bcfe495c3f9c5210": {
      "model_module": "@jupyter-widgets/base",
      "model_module_version": "2.0.0",
      "model_name": "LayoutModel",
      "state": {}
     },
     "f7ff3fcf2aa549bc9c4485d8fd1fa30a": {
      "model_module": "@jupyter-widgets/controls",
      "model_module_version": "2.0.0",
      "model_name": "ProgressStyleModel",
      "state": {
       "description_width": ""
      }
     },
     "f891117e362241279effb551e690ffc1": {
      "model_module": "@jupyter-widgets/base",
      "model_module_version": "2.0.0",
      "model_name": "LayoutModel",
      "state": {}
     },
     "ff093dd14c7c42f69b80a6a5ca0a8611": {
      "model_module": "@jupyter-widgets/controls",
      "model_module_version": "2.0.0",
      "model_name": "HTMLStyleModel",
      "state": {
       "description_width": "",
       "font_size": null,
       "text_color": null
      }
     }
    },
    "version_major": 2,
    "version_minor": 0
   }
  }
 },
 "nbformat": 4,
 "nbformat_minor": 5
}
