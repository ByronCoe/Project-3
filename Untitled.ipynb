{
 "cells": [
  {
   "cell_type": "code",
   "execution_count": 23,
   "id": "ed54faed-8b94-418d-aad5-4d49db5b6dba",
   "metadata": {},
   "outputs": [],
   "source": [
    "basics_url = \"https://datasets.imdbws.com/title.basics.tsv.gz\"\n",
    "akas_url = \"https://datasets.imdbws.com/title.akas.tsv.gz\"\n",
    "ratings_url = \"https://datasets.imdbws.com/title.ratings.tsv.gz\""
   ]
  },
  {
   "cell_type": "code",
   "execution_count": 24,
   "id": "1b55ec6a-a87a-46f5-a11e-7d99eb085b53",
   "metadata": {},
   "outputs": [],
   "source": [
    "import pandas as pd\n",
    "import numpy as np\n",
    "import os"
   ]
  },
  {
   "cell_type": "code",
   "execution_count": 25,
   "id": "39a5530c-a070-454b-b3db-800a3a45592c",
   "metadata": {},
   "outputs": [],
   "source": [
    "basics = pd.read_csv(basics_url, sep='\\t', low_memory=False)\n",
    "akas = pd.read_csv(akas_url, sep='\\t', low_memory=False)\n",
    "ratings = pd.read_csv(ratings_url, sep='\\t', low_memory=False)"
   ]
  },
  {
   "cell_type": "code",
   "execution_count": 26,
   "id": "e2af67c6-1c5d-4d65-ab54-f7622c7dfd37",
   "metadata": {},
   "outputs": [
    {
     "name": "stdout",
     "output_type": "stream",
     "text": [
      "Index(['tconst', 'titleType', 'primaryTitle', 'originalTitle', 'isAdult',\n",
      "       'startYear', 'endYear', 'runtimeMinutes', 'genres'],\n",
      "      dtype='object')\n"
     ]
    }
   ],
   "source": [
    "print(basics.columns)"
   ]
  },
  {
   "cell_type": "code",
   "execution_count": 27,
   "id": "974f138f-c5ce-445b-b8c9-21fa332b3dc7",
   "metadata": {},
   "outputs": [],
   "source": [
    "# Title Basics\n",
    "basics.replace(r'\\\\N', np.nan, inplace=True)\n",
    "basics = basics.dropna(subset=['runtimeMinutes', 'genres'])\n",
    "basics['startYear'] = pd.to_numeric(basics['startYear'], errors='coerce')  # Convert 'startYear' to numeric\n",
    "basics = basics[(basics['titleType'] == 'movie') & (basics['startYear'].between(2000, 2022))]\n",
    "basics = basics[~basics['genres'].str.contains('Documentary', na=False)]"
   ]
  },
  {
   "cell_type": "code",
   "execution_count": 28,
   "id": "7649f076-2a19-4ae5-8ffa-5bbfcaf60358",
   "metadata": {},
   "outputs": [
    {
     "name": "stdout",
     "output_type": "stream",
     "text": [
      "Index(['titleId', 'ordering', 'title', 'region', 'language', 'types',\n",
      "       'attributes', 'isOriginalTitle'],\n",
      "      dtype='object')\n"
     ]
    }
   ],
   "source": [
    "print(akas.columns)"
   ]
  },
  {
   "cell_type": "code",
   "execution_count": 29,
   "id": "9ce86283-7ba7-4c54-813b-725cfeb41355",
   "metadata": {},
   "outputs": [],
   "source": [
    "# AKAs\n",
    "akas = akas[akas['region'] == 'US']\n",
    "akas.replace(r'\\\\N', np.nan, inplace=True)"
   ]
  },
  {
   "cell_type": "code",
   "execution_count": 30,
   "id": "455fe4a5-e37a-424c-9668-95cfe0a96c95",
   "metadata": {},
   "outputs": [
    {
     "name": "stdout",
     "output_type": "stream",
     "text": [
      "Index(['tconst', 'averageRating', 'numVotes'], dtype='object')\n"
     ]
    }
   ],
   "source": [
    "print(ratings.columns)"
   ]
  },
  {
   "cell_type": "code",
   "execution_count": 31,
   "id": "ad3f0d32-3cba-4401-bd0b-ace6531efe0c",
   "metadata": {},
   "outputs": [],
   "source": [
    "# Ratings\n",
    "ratings.replace(r'\\\\N', np.nan, inplace=True)\n",
    "ratings = ratings[ratings['tconst'].isin(akas['titleId'])]"
   ]
  },
  {
   "cell_type": "code",
   "execution_count": 32,
   "id": "aeda6491-8a2d-4606-be8c-a2ef1f1ed7fe",
   "metadata": {},
   "outputs": [
    {
     "name": "stdout",
     "output_type": "stream",
     "text": [
      "Basics DataFrame Info:\n",
      "<class 'pandas.core.frame.DataFrame'>\n",
      "Int64Index: 202549 entries, 11636 to 10255925\n",
      "Data columns (total 9 columns):\n",
      " #   Column          Non-Null Count   Dtype  \n",
      "---  ------          --------------   -----  \n",
      " 0   tconst          202549 non-null  object \n",
      " 1   titleType       202549 non-null  object \n",
      " 2   primaryTitle    202549 non-null  object \n",
      " 3   originalTitle   202549 non-null  object \n",
      " 4   isAdult         202549 non-null  object \n",
      " 5   startYear       202549 non-null  float64\n",
      " 6   endYear         202549 non-null  object \n",
      " 7   runtimeMinutes  202549 non-null  object \n",
      " 8   genres          202549 non-null  object \n",
      "dtypes: float64(1), object(8)\n",
      "memory usage: 15.5+ MB\n"
     ]
    }
   ],
   "source": [
    "print(\"Basics DataFrame Info:\")\n",
    "basics.info()"
   ]
  },
  {
   "cell_type": "code",
   "execution_count": 33,
   "id": "cda6ca4b-b928-4b62-b712-47521f2ebb51",
   "metadata": {},
   "outputs": [
    {
     "name": "stdout",
     "output_type": "stream",
     "text": [
      "AKAs DataFrame Info:\n",
      "<class 'pandas.core.frame.DataFrame'>\n",
      "Int64Index: 1472694 entries, 5 to 37544647\n",
      "Data columns (total 8 columns):\n",
      " #   Column           Non-Null Count    Dtype \n",
      "---  ------           --------------    ----- \n",
      " 0   titleId          1472694 non-null  object\n",
      " 1   ordering         1472694 non-null  int64 \n",
      " 2   title            1472694 non-null  object\n",
      " 3   region           1472694 non-null  object\n",
      " 4   language         1472694 non-null  object\n",
      " 5   types            1472694 non-null  object\n",
      " 6   attributes       1472694 non-null  object\n",
      " 7   isOriginalTitle  1472694 non-null  object\n",
      "dtypes: int64(1), object(7)\n",
      "memory usage: 101.1+ MB\n"
     ]
    }
   ],
   "source": [
    "print(\"AKAs DataFrame Info:\")\n",
    "akas.info()"
   ]
  },
  {
   "cell_type": "code",
   "execution_count": 34,
   "id": "d11710d3-375d-48eb-9d54-7b4e76b21ae9",
   "metadata": {},
   "outputs": [
    {
     "name": "stdout",
     "output_type": "stream",
     "text": [
      "Ratings DataFrame Info:\n",
      "<class 'pandas.core.frame.DataFrame'>\n",
      "Int64Index: 512306 entries, 0 to 1361653\n",
      "Data columns (total 3 columns):\n",
      " #   Column         Non-Null Count   Dtype  \n",
      "---  ------         --------------   -----  \n",
      " 0   tconst         512306 non-null  object \n",
      " 1   averageRating  512306 non-null  float64\n",
      " 2   numVotes       512306 non-null  int64  \n",
      "dtypes: float64(1), int64(1), object(1)\n",
      "memory usage: 15.6+ MB\n"
     ]
    }
   ],
   "source": [
    "print(\"Ratings DataFrame Info:\")\n",
    "ratings.info()"
   ]
  },
  {
   "cell_type": "code",
   "execution_count": 35,
   "id": "1f153c28-d8e9-482e-ba76-e1e5575c994f",
   "metadata": {},
   "outputs": [],
   "source": [
    "os.makedirs(\"Data\", exist_ok=True)"
   ]
  },
  {
   "cell_type": "code",
   "execution_count": 36,
   "id": "5896e785-bb58-4693-8732-ebb324a2e3af",
   "metadata": {},
   "outputs": [],
   "source": [
    "basics.to_csv(\"Data/basics_cleaned.csv\", index=False, compression=\"gzip\")\n",
    "akas.to_csv(\"Data/akas_cleaned.csv\", index=False, compression=\"gzip\")\n",
    "ratings.to_csv(\"Data/ratings_cleaned.csv\", index=False, compression=\"gzip\")"
   ]
  }
 ],
 "metadata": {
  "kernelspec": {
   "display_name": "Python (dojo-env)",
   "language": "python",
   "name": "dojo-env"
  },
  "language_info": {
   "codemirror_mode": {
    "name": "ipython",
    "version": 3
   },
   "file_extension": ".py",
   "mimetype": "text/x-python",
   "name": "python",
   "nbconvert_exporter": "python",
   "pygments_lexer": "ipython3",
   "version": "3.10.10"
  },
  "widgets": {
   "application/vnd.jupyter.widget-state+json": {
    "state": {},
    "version_major": 2,
    "version_minor": 0
   }
  }
 },
 "nbformat": 4,
 "nbformat_minor": 5
}
