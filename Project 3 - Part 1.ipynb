{
 "cells": [
  {
   "cell_type": "code",
   "execution_count": 23,
   "id": "ed54faed-8b94-418d-aad5-4d49db5b6dba",
   "metadata": {},
   "outputs": [],
   "source": [
    "basics_url = \"https://datasets.imdbws.com/title.basics.tsv.gz\"\n",
    "akas_url = \"https://datasets.imdbws.com/title.akas.tsv.gz\"\n",
    "ratings_url = \"https://datasets.imdbws.com/title.ratings.tsv.gz\""
   ]
  },
  {
   "cell_type": "code",
   "execution_count": 24,
   "id": "1b55ec6a-a87a-46f5-a11e-7d99eb085b53",
   "metadata": {},
   "outputs": [],
   "source": [
    "import pandas as pd\n",
    "import numpy as np\n",
    "import os"
   ]
  },
  {
   "cell_type": "code",
   "execution_count": 25,
   "id": "39a5530c-a070-454b-b3db-800a3a45592c",
   "metadata": {},
   "outputs": [],
   "source": [
    "basics = pd.read_csv(basics_url, sep='\\t', low_memory=False)\n",
    "akas = pd.read_csv(akas_url, sep='\\t', low_memory=False)\n",
    "ratings = pd.read_csv(ratings_url, sep='\\t', low_memory=False)"
   ]
  },
  {
   "cell_type": "code",
   "execution_count": 26,
   "id": "e2af67c6-1c5d-4d65-ab54-f7622c7dfd37",
   "metadata": {},
   "outputs": [
    {
     "name": "stdout",
     "output_type": "stream",
     "text": [
      "Index(['tconst', 'titleType', 'primaryTitle', 'originalTitle', 'isAdult',\n",
      "       'startYear', 'endYear', 'runtimeMinutes', 'genres'],\n",
      "      dtype='object')\n"
     ]
    }
   ],
   "source": [
    "print(basics.columns)"
   ]
  },
  {
   "cell_type": "code",
   "execution_count": 27,
   "id": "974f138f-c5ce-445b-b8c9-21fa332b3dc7",
   "metadata": {},
   "outputs": [],
   "source": [
    "# Title Basics\n",
    "basics.replace(r'\\\\N', np.nan, inplace=True)\n",
    "basics = basics.dropna(subset=['runtimeMinutes', 'genres'])\n",
    "basics['startYear'] = pd.to_numeric(basics['startYear'], errors='coerce')  # Convert 'startYear' to numeric\n",
    "basics = basics[(basics['titleType'] == 'movie') & (basics['startYear'].between(2000, 2022))]\n",
    "basics = basics[~basics['genres'].str.contains('Documentary', na=False)]"
   ]
  },
  {
   "cell_type": "code",
   "execution_count": 28,
   "id": "7649f076-2a19-4ae5-8ffa-5bbfcaf60358",
   "metadata": {},
   "outputs": [
    {
     "name": "stdout",
     "output_type": "stream",
     "text": [
      "Index(['titleId', 'ordering', 'title', 'region', 'language', 'types',\n",
      "       'attributes', 'isOriginalTitle'],\n",
      "      dtype='object')\n"
     ]
    }
   ],
   "source": [
    "print(akas.columns)"
   ]
  },
  {
   "cell_type": "code",
   "execution_count": 29,
   "id": "9ce86283-7ba7-4c54-813b-725cfeb41355",
   "metadata": {},
   "outputs": [],
   "source": [
    "# AKAs\n",
    "akas = akas[akas['region'] == 'US']\n",
    "akas.replace(r'\\\\N', np.nan, inplace=True)"
   ]
  },
  {
   "cell_type": "code",
   "execution_count": 30,
   "id": "455fe4a5-e37a-424c-9668-95cfe0a96c95",
   "metadata": {},
   "outputs": [
    {
     "name": "stdout",
     "output_type": "stream",
     "text": [
      "Index(['tconst', 'averageRating', 'numVotes'], dtype='object')\n"
     ]
    }
   ],
   "source": [
    "print(ratings.columns)"
   ]
  },
  {
   "cell_type": "code",
   "execution_count": 31,
   "id": "ad3f0d32-3cba-4401-bd0b-ace6531efe0c",
   "metadata": {},
   "outputs": [],
   "source": [
    "# Ratings\n",
    "ratings.replace(r'\\\\N', np.nan, inplace=True)\n",
    "ratings = ratings[ratings['tconst'].isin(akas['titleId'])]"
   ]
  },
  {
   "cell_type": "code",
   "execution_count": 32,
   "id": "aeda6491-8a2d-4606-be8c-a2ef1f1ed7fe",
   "metadata": {},
   "outputs": [
    {
     "name": "stdout",
     "output_type": "stream",
     "text": [
      "Basics DataFrame Info:\n",
      "<class 'pandas.core.frame.DataFrame'>\n",
      "Int64Index: 202549 entries, 11636 to 10255925\n",
      "Data columns (total 9 columns):\n",
      " #   Column          Non-Null Count   Dtype  \n",
      "---  ------          --------------   -----  \n",
      " 0   tconst          202549 non-null  object \n",
      " 1   titleType       202549 non-null  object \n",
      " 2   primaryTitle    202549 non-null  object \n",
      " 3   originalTitle   202549 non-null  object \n",
      " 4   isAdult         202549 non-null  object \n",
      " 5   startYear       202549 non-null  float64\n",
      " 6   endYear         202549 non-null  object \n",
      " 7   runtimeMinutes  202549 non-null  object \n",
      " 8   genres          202549 non-null  object \n",
      "dtypes: float64(1), object(8)\n",
      "memory usage: 15.5+ MB\n"
     ]
    }
   ],
   "source": [
    "print(\"Basics DataFrame Info:\")\n",
    "basics.info()"
   ]
  },
  {
   "cell_type": "code",
   "execution_count": 33,
   "id": "cda6ca4b-b928-4b62-b712-47521f2ebb51",
   "metadata": {},
   "outputs": [
    {
     "name": "stdout",
     "output_type": "stream",
     "text": [
      "AKAs DataFrame Info:\n",
      "<class 'pandas.core.frame.DataFrame'>\n",
      "Int64Index: 1472694 entries, 5 to 37544647\n",
      "Data columns (total 8 columns):\n",
      " #   Column           Non-Null Count    Dtype \n",
      "---  ------           --------------    ----- \n",
      " 0   titleId          1472694 non-null  object\n",
      " 1   ordering         1472694 non-null  int64 \n",
      " 2   title            1472694 non-null  object\n",
      " 3   region           1472694 non-null  object\n",
      " 4   language         1472694 non-null  object\n",
      " 5   types            1472694 non-null  object\n",
      " 6   attributes       1472694 non-null  object\n",
      " 7   isOriginalTitle  1472694 non-null  object\n",
      "dtypes: int64(1), object(7)\n",
      "memory usage: 101.1+ MB\n"
     ]
    }
   ],
   "source": [
    "print(\"AKAs DataFrame Info:\")\n",
    "akas.info()"
   ]
  },
  {
   "cell_type": "code",
   "execution_count": 34,
   "id": "d11710d3-375d-48eb-9d54-7b4e76b21ae9",
   "metadata": {},
   "outputs": [
    {
     "name": "stdout",
     "output_type": "stream",
     "text": [
      "Ratings DataFrame Info:\n",
      "<class 'pandas.core.frame.DataFrame'>\n",
      "Int64Index: 512306 entries, 0 to 1361653\n",
      "Data columns (total 3 columns):\n",
      " #   Column         Non-Null Count   Dtype  \n",
      "---  ------         --------------   -----  \n",
      " 0   tconst         512306 non-null  object \n",
      " 1   averageRating  512306 non-null  float64\n",
      " 2   numVotes       512306 non-null  int64  \n",
      "dtypes: float64(1), int64(1), object(1)\n",
      "memory usage: 15.6+ MB\n"
     ]
    }
   ],
   "source": [
    "print(\"Ratings DataFrame Info:\")\n",
    "ratings.info()"
   ]
  },
  {
   "cell_type": "code",
   "execution_count": 37,
   "id": "ee91ba41-713a-436e-b3e9-73b7d618d4c8",
   "metadata": {},
   "outputs": [
    {
     "data": {
      "text/plain": [
       "11636       False\n",
       "15176       False\n",
       "34800        True\n",
       "61111        True\n",
       "67485        True\n",
       "            ...  \n",
       "10255751     True\n",
       "10255783     True\n",
       "10255835    False\n",
       "10255915    False\n",
       "10255925    False\n",
       "Name: tconst, Length: 202549, dtype: bool"
      ]
     },
     "execution_count": 37,
     "metadata": {},
     "output_type": "execute_result"
    }
   ],
   "source": [
    "# Filter the basics table down to only include the US by using the filter akas dataframe\n",
    "keepers =basics['tconst'].isin(akas['titleId'])\n",
    "keepers"
   ]
  },
  {
   "cell_type": "code",
   "execution_count": 38,
   "id": "7f14a36e-cf45-4e00-af12-9356f5b1ef37",
   "metadata": {},
   "outputs": [
    {
     "data": {
      "text/html": [
       "<div>\n",
       "<style scoped>\n",
       "    .dataframe tbody tr th:only-of-type {\n",
       "        vertical-align: middle;\n",
       "    }\n",
       "\n",
       "    .dataframe tbody tr th {\n",
       "        vertical-align: top;\n",
       "    }\n",
       "\n",
       "    .dataframe thead th {\n",
       "        text-align: right;\n",
       "    }\n",
       "</style>\n",
       "<table border=\"1\" class=\"dataframe\">\n",
       "  <thead>\n",
       "    <tr style=\"text-align: right;\">\n",
       "      <th></th>\n",
       "      <th>tconst</th>\n",
       "      <th>titleType</th>\n",
       "      <th>primaryTitle</th>\n",
       "      <th>originalTitle</th>\n",
       "      <th>isAdult</th>\n",
       "      <th>startYear</th>\n",
       "      <th>endYear</th>\n",
       "      <th>runtimeMinutes</th>\n",
       "      <th>genres</th>\n",
       "    </tr>\n",
       "  </thead>\n",
       "  <tbody>\n",
       "    <tr>\n",
       "      <th>34800</th>\n",
       "      <td>tt0035423</td>\n",
       "      <td>movie</td>\n",
       "      <td>Kate &amp; Leopold</td>\n",
       "      <td>Kate &amp; Leopold</td>\n",
       "      <td>0</td>\n",
       "      <td>2001.0</td>\n",
       "      <td>\\N</td>\n",
       "      <td>118</td>\n",
       "      <td>Comedy,Fantasy,Romance</td>\n",
       "    </tr>\n",
       "    <tr>\n",
       "      <th>61111</th>\n",
       "      <td>tt0062336</td>\n",
       "      <td>movie</td>\n",
       "      <td>The Tango of the Widower and Its Distorting Mi...</td>\n",
       "      <td>El tango del viudo y su espejo deformante</td>\n",
       "      <td>0</td>\n",
       "      <td>2020.0</td>\n",
       "      <td>\\N</td>\n",
       "      <td>70</td>\n",
       "      <td>Drama</td>\n",
       "    </tr>\n",
       "    <tr>\n",
       "      <th>67485</th>\n",
       "      <td>tt0068865</td>\n",
       "      <td>movie</td>\n",
       "      <td>Lives of Performers</td>\n",
       "      <td>Lives of Performers</td>\n",
       "      <td>0</td>\n",
       "      <td>2016.0</td>\n",
       "      <td>\\N</td>\n",
       "      <td>90</td>\n",
       "      <td>Drama</td>\n",
       "    </tr>\n",
       "    <tr>\n",
       "      <th>67663</th>\n",
       "      <td>tt0069049</td>\n",
       "      <td>movie</td>\n",
       "      <td>The Other Side of the Wind</td>\n",
       "      <td>The Other Side of the Wind</td>\n",
       "      <td>0</td>\n",
       "      <td>2018.0</td>\n",
       "      <td>\\N</td>\n",
       "      <td>122</td>\n",
       "      <td>Drama</td>\n",
       "    </tr>\n",
       "    <tr>\n",
       "      <th>80548</th>\n",
       "      <td>tt0082328</td>\n",
       "      <td>movie</td>\n",
       "      <td>Embodiment of Evil</td>\n",
       "      <td>Encarnação do Demônio</td>\n",
       "      <td>0</td>\n",
       "      <td>2008.0</td>\n",
       "      <td>\\N</td>\n",
       "      <td>94</td>\n",
       "      <td>Horror</td>\n",
       "    </tr>\n",
       "    <tr>\n",
       "      <th>...</th>\n",
       "      <td>...</td>\n",
       "      <td>...</td>\n",
       "      <td>...</td>\n",
       "      <td>...</td>\n",
       "      <td>...</td>\n",
       "      <td>...</td>\n",
       "      <td>...</td>\n",
       "      <td>...</td>\n",
       "      <td>...</td>\n",
       "    </tr>\n",
       "    <tr>\n",
       "      <th>10255518</th>\n",
       "      <td>tt9915872</td>\n",
       "      <td>movie</td>\n",
       "      <td>The Last White Witch</td>\n",
       "      <td>Boku no kanojo wa mahoutsukai</td>\n",
       "      <td>0</td>\n",
       "      <td>2019.0</td>\n",
       "      <td>\\N</td>\n",
       "      <td>97</td>\n",
       "      <td>Comedy,Drama,Fantasy</td>\n",
       "    </tr>\n",
       "    <tr>\n",
       "      <th>10255658</th>\n",
       "      <td>tt9916170</td>\n",
       "      <td>movie</td>\n",
       "      <td>The Rehearsal</td>\n",
       "      <td>O Ensaio</td>\n",
       "      <td>0</td>\n",
       "      <td>2019.0</td>\n",
       "      <td>\\N</td>\n",
       "      <td>51</td>\n",
       "      <td>Drama</td>\n",
       "    </tr>\n",
       "    <tr>\n",
       "      <th>10255667</th>\n",
       "      <td>tt9916190</td>\n",
       "      <td>movie</td>\n",
       "      <td>Safeguard</td>\n",
       "      <td>Safeguard</td>\n",
       "      <td>0</td>\n",
       "      <td>2020.0</td>\n",
       "      <td>\\N</td>\n",
       "      <td>95</td>\n",
       "      <td>Action,Adventure,Thriller</td>\n",
       "    </tr>\n",
       "    <tr>\n",
       "      <th>10255751</th>\n",
       "      <td>tt9916362</td>\n",
       "      <td>movie</td>\n",
       "      <td>Coven</td>\n",
       "      <td>Akelarre</td>\n",
       "      <td>0</td>\n",
       "      <td>2020.0</td>\n",
       "      <td>\\N</td>\n",
       "      <td>92</td>\n",
       "      <td>Drama,History</td>\n",
       "    </tr>\n",
       "    <tr>\n",
       "      <th>10255783</th>\n",
       "      <td>tt9916428</td>\n",
       "      <td>movie</td>\n",
       "      <td>The Secret of China</td>\n",
       "      <td>Hong xing zhao yao Zhong guo</td>\n",
       "      <td>0</td>\n",
       "      <td>2019.0</td>\n",
       "      <td>\\N</td>\n",
       "      <td>\\N</td>\n",
       "      <td>Adventure,History,War</td>\n",
       "    </tr>\n",
       "  </tbody>\n",
       "</table>\n",
       "<p>104986 rows × 9 columns</p>\n",
       "</div>"
      ],
      "text/plain": [
       "             tconst titleType  \\\n",
       "34800     tt0035423     movie   \n",
       "61111     tt0062336     movie   \n",
       "67485     tt0068865     movie   \n",
       "67663     tt0069049     movie   \n",
       "80548     tt0082328     movie   \n",
       "...             ...       ...   \n",
       "10255518  tt9915872     movie   \n",
       "10255658  tt9916170     movie   \n",
       "10255667  tt9916190     movie   \n",
       "10255751  tt9916362     movie   \n",
       "10255783  tt9916428     movie   \n",
       "\n",
       "                                               primaryTitle  \\\n",
       "34800                                        Kate & Leopold   \n",
       "61111     The Tango of the Widower and Its Distorting Mi...   \n",
       "67485                                   Lives of Performers   \n",
       "67663                            The Other Side of the Wind   \n",
       "80548                                    Embodiment of Evil   \n",
       "...                                                     ...   \n",
       "10255518                               The Last White Witch   \n",
       "10255658                                      The Rehearsal   \n",
       "10255667                                          Safeguard   \n",
       "10255751                                              Coven   \n",
       "10255783                                The Secret of China   \n",
       "\n",
       "                                      originalTitle isAdult  startYear  \\\n",
       "34800                                Kate & Leopold       0     2001.0   \n",
       "61111     El tango del viudo y su espejo deformante       0     2020.0   \n",
       "67485                           Lives of Performers       0     2016.0   \n",
       "67663                    The Other Side of the Wind       0     2018.0   \n",
       "80548                         Encarnação do Demônio       0     2008.0   \n",
       "...                                             ...     ...        ...   \n",
       "10255518              Boku no kanojo wa mahoutsukai       0     2019.0   \n",
       "10255658                                   O Ensaio       0     2019.0   \n",
       "10255667                                  Safeguard       0     2020.0   \n",
       "10255751                                   Akelarre       0     2020.0   \n",
       "10255783               Hong xing zhao yao Zhong guo       0     2019.0   \n",
       "\n",
       "         endYear runtimeMinutes                     genres  \n",
       "34800         \\N            118     Comedy,Fantasy,Romance  \n",
       "61111         \\N             70                      Drama  \n",
       "67485         \\N             90                      Drama  \n",
       "67663         \\N            122                      Drama  \n",
       "80548         \\N             94                     Horror  \n",
       "...          ...            ...                        ...  \n",
       "10255518      \\N             97       Comedy,Drama,Fantasy  \n",
       "10255658      \\N             51                      Drama  \n",
       "10255667      \\N             95  Action,Adventure,Thriller  \n",
       "10255751      \\N             92              Drama,History  \n",
       "10255783      \\N             \\N      Adventure,History,War  \n",
       "\n",
       "[104986 rows x 9 columns]"
      ]
     },
     "execution_count": 38,
     "metadata": {},
     "output_type": "execute_result"
    }
   ],
   "source": [
    "basics = basics[keepers]\n",
    "basics"
   ]
  },
  {
   "cell_type": "code",
   "execution_count": 35,
   "id": "1f153c28-d8e9-482e-ba76-e1e5575c994f",
   "metadata": {},
   "outputs": [],
   "source": [
    "os.makedirs(\"Data\", exist_ok=True)"
   ]
  },
  {
   "cell_type": "code",
   "execution_count": 36,
   "id": "5896e785-bb58-4693-8732-ebb324a2e3af",
   "metadata": {},
   "outputs": [],
   "source": [
    "basics.to_csv(\"Data/basics_cleaned.csv\", index=False, compression=\"gzip\")\n",
    "akas.to_csv(\"Data/akas_cleaned.csv\", index=False, compression=\"gzip\")\n",
    "ratings.to_csv(\"Data/ratings_cleaned.csv\", index=False, compression=\"gzip\")"
   ]
  }
 ],
 "metadata": {
  "kernelspec": {
   "display_name": "Python (dojo-env)",
   "language": "python",
   "name": "dojo-env"
  },
  "language_info": {
   "codemirror_mode": {
    "name": "ipython",
    "version": 3
   },
   "file_extension": ".py",
   "mimetype": "text/x-python",
   "name": "python",
   "nbconvert_exporter": "python",
   "pygments_lexer": "ipython3",
   "version": "3.10.10"
  },
  "widgets": {
   "application/vnd.jupyter.widget-state+json": {
    "state": {},
    "version_major": 2,
    "version_minor": 0
   }
  }
 },
 "nbformat": 4,
 "nbformat_minor": 5
}
